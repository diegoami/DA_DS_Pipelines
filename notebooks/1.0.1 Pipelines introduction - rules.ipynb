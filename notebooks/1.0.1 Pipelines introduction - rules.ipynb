{
 "cells": [
  {
   "cell_type": "markdown",
   "metadata": {
    "deletable": true,
    "editable": true
   },
   "source": [
    "There are a couple of rules when dealing with models, transformations and implementation:\n",
    "    \n",
    "1. Be lazy\n",
    "-----------------\n",
    "\n",
    "You should first define what you need to do. In other words prolong the work as long as you can.\n",
    "Your whole process should be defined in a certain place in your code and then wait patiently to be called.\n",
    "\n",
    "Do this:\n",
    "```python\n",
    "\n",
    "# do nothing - wax on\n",
    "model = [\n",
    "    step_1,\n",
    "    step_2,\n",
    "    step_3,\n",
    "    step_4\n",
    "]\n",
    "\n",
    "# do work - wax off\n",
    "model.transform(X)\n",
    "```\n",
    "\n",
    "<img src='img/waxonwaxoff_v2.gif'/>\n",
    "\n",
    "\n",
    "<span style='color:red'>Don't do this</a>\n",
    "```\n",
    "X_after_step_1 = step_1(X)\n",
    "X_after_step_2 = step_2(X_after_step_1)\n",
    "X_after_step_3 = step_3(X_after_step_2)\n",
    "X_after_step_4 = step_4(X_after_step_3)\n",
    "```\n",
    "\n",
    "2. Model serialization\n",
    "-----------------\n",
    "\n",
    "If you cannot save your model to a file and load it to predict you are doing something wrong.\n",
    "\n",
    "```python\n",
    "model = train_model(training_X, training_y)\n",
    "save(model, 'somefile.pkl')\n",
    "\n",
    "... [many months later] ...\n",
    "\n",
    "model = load_model('somefile.pkl')\n",
    "predictions = model.predict(new_X)\n",
    "```\n",
    "\n",
    "Don't do this:\n",
    "```python\n",
    "class Model(Serializable):\n",
    "```\n",
    "\n",
    "Do this\n",
    "```\n",
    "from pickle import dump\n",
    "dump(model, 'somefile.pkl')\n",
    "```\n",
    "\n",
    "\n",
    "Model doesn't have to know how to save itself - it should compose of parts that know how to serialize themselves so altogether you can save it without any logic.\n",
    "\n",
    "3. Always be thinking how to decompose the problem into smaller parts\n",
    "-------------------\n",
    "\n",
    "If you see a class that is overly complex there is a chance that it can be decomposed into several components."
   ]
  },
  {
   "cell_type": "code",
   "execution_count": null,
   "metadata": {
    "collapsed": true,
    "deletable": true,
    "editable": true
   },
   "outputs": [],
   "source": []
  }
 ],
 "metadata": {
  "kernelspec": {
   "display_name": "Python 3",
   "language": "python",
   "name": "python3"
  },
  "language_info": {
   "codemirror_mode": {
    "name": "ipython",
    "version": 3
   },
   "file_extension": ".py",
   "mimetype": "text/x-python",
   "name": "python",
   "nbconvert_exporter": "python",
   "pygments_lexer": "ipython3",
   "version": "3.6.0"
  }
 },
 "nbformat": 4,
 "nbformat_minor": 2
}
