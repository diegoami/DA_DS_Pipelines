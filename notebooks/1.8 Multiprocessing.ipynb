{
 "cells": [
  {
   "cell_type": "markdown",
   "metadata": {},
   "source": [
    "# What to do when your code is slow\n",
    "\n",
    "1. Make sure it works and then make it fast\n",
    "2. Use profilers:\n",
    "- https://julien.danjou.info/blog/2015/guide-to-python-profiling-cprofile-concrete-case-carbonara\n",
    "3. Use multicore:\n",
    "- https://pymotw.com/2/multiprocessing/basics.html"
   ]
  },
  {
   "cell_type": "code",
   "execution_count": 19,
   "metadata": {},
   "outputs": [
    {
     "name": "stdout",
     "output_type": "stream",
     "text": [
      "Normal loop\n",
      "Finished 0\n",
      "Finished 1\n",
      "Finished 2\n",
      "Finished 3\n",
      "Finished 4\n",
      "Finished 5\n",
      "Finished 6\n",
      "Finished 7\n",
      "Took 16.022 s\n",
      "[0, 10, 20, 30, 40, 50, 60, 70]\n",
      "Fast loop\n",
      "Finished 4\n",
      "Finished 5\n",
      "Finished 7\n",
      "Finished 2\n",
      "Finished 1\n",
      "Finished 0\n",
      "Finished 6\n",
      "Finished 3\n",
      "Took 2.012 s\n",
      "[0, 10, 20, 30, 40, 50, 60, 70]\n"
     ]
    }
   ],
   "source": [
    "from multiprocessing import Pool\n",
    "from time import sleep, clock, time\n",
    "\n",
    "def slow_function(e):\n",
    "    sleep(2)\n",
    "    print(\"Finished\",e)\n",
    "    return e*10\n",
    "\n",
    "# without\n",
    "print('Normal loop')\n",
    "elements = range(8)\n",
    "time1 = time()\n",
    "processed_elements = list(map(slow_function, elements))\n",
    "time2 = time()\n",
    "print('Took %0.3f s' % (time2-time1))\n",
    "print(processed_elements)\n",
    "\n",
    "# with\n",
    "print('Fast loop')\n",
    "pool = Pool(8)\n",
    "elements = range(8)\n",
    "time1 = time()\n",
    "processed_elements = pool.map(slow_function, elements)\n",
    "time2 = time()\n",
    "print('Took %0.3f s' % (time2-time1))\n",
    "pool.close()\n",
    "print(processed_elements)"
   ]
  },
  {
   "cell_type": "markdown",
   "metadata": {},
   "source": [
    "Exercise\n",
    "-----------\n",
    "\n",
    "1. Download the contents of the websites from `data/websites.csv` using `requests` module (`pip install requests`):\n",
    "    - write a function that accepts URL as the parameter and returns the content of the website\n",
    "2. How fast do you think you can download 2000 websites?"
   ]
  },
  {
   "cell_type": "code",
   "execution_count": null,
   "metadata": {},
   "outputs": [],
   "source": []
  }
 ],
 "metadata": {
  "kernelspec": {
   "display_name": "Python 3",
   "language": "python",
   "name": "python3"
  },
  "language_info": {
   "codemirror_mode": {
    "name": "ipython",
    "version": 3
   },
   "file_extension": ".py",
   "mimetype": "text/x-python",
   "name": "python",
   "nbconvert_exporter": "python",
   "pygments_lexer": "ipython3",
   "version": "3.6.1"
  }
 },
 "nbformat": 4,
 "nbformat_minor": 2
}
